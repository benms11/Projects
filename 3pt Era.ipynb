{
 "cells": [
  {
   "cell_type": "markdown",
   "metadata": {},
   "source": [
    "# The 3-Point Era: Offenses in a Shifting NBA Universe"
   ]
  },
  {
   "cell_type": "markdown",
   "metadata": {},
   "source": [
    "Ben Miller-Schmidt  \n",
    "Economics 413  \n",
    "Spring 2019  "
   ]
  },
  {
   "cell_type": "markdown",
   "metadata": {},
   "source": [
    "### <u> Introduction</u>"
   ]
  },
  {
   "cell_type": "markdown",
   "metadata": {},
   "source": [
    "When the first NBA three-pointer was attempted in 1979, the shot’s debut season, many coaches and players were opposed to the new rule. It was thought to be a circus shot. In a league of back-to-the-basket big men, teams averaged a measly 2.8 three point attempts a game. Yet these circus shot attempts would grow to 6.6 a decade later (’89), 13.7 a decade after that (’99), 18.1 in 2009 and a whopping 32.0 3PA this past 2018-19 season. At the forefront of this three-point revolution is one man, the greatest shooter in NBA history.  \n",
    "\n",
    "Stephen Curry shattered the record for NBA 3PT field goals in the 2015-16 season by making 402 of them, breaking his previous record of 286 set two years prior. Perhaps most impressive about that season was that he shot 50.4% from the field including 45.4% from three, a season in which the league average 3PT% was 35.4%, and did so attempting 11.2 threes a game. Curry and his Golden State Warriors sparked a revolution that has changed the way general managers, coaches and players think about the game.   \n",
    "\n",
    "Curry is not solely responsible for the transition from center-dominant basketball to the modern pace-and-space style but the awe that he strikes in fans and players alike when he pulls up from unprecedented range has warped the way the game is played. Much of the shift in offensive tactics can also be attributed to the heightened prevalence of analytics. The impact of effective field goal percentage and other metrics that incorporate the added value of a three-pointer have led to the slow and painful death of the midrange. How is it possible for a team that shot the least three-pointers this season to have led the league in 3PT%? Wouldn’t the league leaders in long-range percentage want to maximize three-point attempts instead of shooting the most midrange attempts in the league?  \n",
    "\n",
    "This conundrum begs the question of how many three-pointers is too many. The San Antonio Spurs, led by Greg Popovich, somehow led the league in 3PT% this NBA season with seemingly few snipers from distance. Popovich is of the opinion that analytics have led to an overemphasis on threes at the expense of rebounds, defense or turnovers. Adding onto prior studies by incorporating a three-pointers attempted statistic, I hope to find out whether the three-point revolution has gone too far.  \n"
   ]
  },
  {
   "cell_type": "markdown",
   "metadata": {},
   "source": [
    "### <u> Theory and Prior Research</u>"
   ]
  },
  {
   "cell_type": "markdown",
   "metadata": {},
   "source": [
    "Prior research has been heavily shaped by Oliver (2004). The Four Factor philosophy put forth in Oliver (2004) identifies four important strategies for winning basketball games represented in the form of statistics. The first factor is shooting, measured by effective field goal percentage (eFG%), which is given a weight of 40% and is the implied most important factor. Second is turnover percentage (25% weight), third is rebounding (20%) and fourth is free throws (15%). The factors sum up a strategy most coaches know intuitively: score efficiently, take care of the ball, crash the glass and get to the free throw line. This algorithm is a backbone of basketball statistics and a simple way to predict wins.   \n",
    "\n",
    "Onwuegbuzie (2008) provides a framework that has been cited by many past papers. By using 20 variables in a multiple regression analysis to determine each factor’s effect of winning percentage, Onwuegbuzie (2008) found that field goal conversion percentage was the best predictor. Many of these variables, such as free throw percentage and steals, were found to have little to no effect on wins so I left those variables out. Combining some of the more significant variables from Onwuegbuzie with Oliver’s four factors and incorporating three-point rate and attempts, I came up with ten independent variables. \n"
   ]
  },
  {
   "cell_type": "markdown",
   "metadata": {},
   "source": [
    "### <u> Data</u>"
   ]
  },
  {
   "cell_type": "markdown",
   "metadata": {},
   "source": [
    "The data is cross-sectional, with each team’s individual season from the 2014-15 to the 2017-18 seasons treated independently. Basketball-Reference.com was used for the entirety of the data. The 10 independent variables are listed below in Table 1 with each expected sign along with the dependent variable. "
   ]
  },
  {
   "cell_type": "markdown",
   "metadata": {},
   "source": [
    "<img src=\"tb1.png\" width=\"700\" />"
   ]
  },
  {
   "cell_type": "markdown",
   "metadata": {},
   "source": [
    "![title](https://upload.wikimedia.org/wikipedia/commons/0/0b/Cat_poster_1.jpg)"
   ]
  },
  {
   "cell_type": "markdown",
   "metadata": {},
   "source": [
    "<img src=\"https://upload.wikimedia.org/wikipedia/commons/0/0b/Cat_poster_1.jpg\" />"
   ]
  },
  {
   "cell_type": "code",
   "execution_count": null,
   "metadata": {},
   "outputs": [],
   "source": [
    "<img src=\"tb1.png\" width=\"700\" />"
   ]
  },
  {
   "cell_type": "markdown",
   "metadata": {},
   "source": [
    "#### <center> Table 1: Variables and Expected Signs </center>"
   ]
  },
  {
   "cell_type": "markdown",
   "metadata": {},
   "source": [
    "1.  WINS (DV): The number of regular season games won by a single NBA team in a specific year. \n",
    "2.  3PA: Average number of three-pointers attempted per game by a single NBA team in a specific year. The expected sign is a question mark because I am unsure of the effect more three-pointers will have. \n",
    "3.\t3PT%: Average three-point percentage for a team in a specific year. Calculated by three-point makes divided by attempts. \n",
    "4.\tAST: Average number of assists by a team in a specific year. An assist is attributed to a player who passes the ball to a teammate leading to a field goal. Assists are typically an indication of team cooperation. \n",
    "5.\tDREB%: The percentage of defensive rebounds a team collects. Calculated by dividing the total number of defensive rebounds secured by the total number of defensive rebounds available. \n",
    "6.\tFTA: Free throws attempted by a team per game. Teams that attempt more free throws typically have more aggressive scorers and should win more games. I chose attempts over free throw percentage because attempts are indicative of superstar-caliber players and bad teams can have good free throw percentages. \n",
    "7.\tOPP3PT%: The percentage of three-pointers a team allows its opposition to make per game. Limiting this percentage is key to winning. \n",
    "8.\tOPPFTA: Opponent free throw attempts per game. Teams that foul uncontrollably will surrender more free throws to an opponent than disciplined teams. \n",
    "9.\tOPPTOV: Opponent turnovers forced per game. More turnovers imply better team defense and produce scoring opportunities. \n",
    "10.\tPTS: Points scored by a team per game. Better offenses produce more points and should win more games. \n",
    "11.\tTOV: Turnovers per game. Teams that turn the ball over allow opponents more opportunities to score, decreasing their chances at winning. \n"
   ]
  },
  {
   "cell_type": "markdown",
   "metadata": {},
   "source": [
    "<img src=\"tb2.png\" width=\"700\" />"
   ]
  },
  {
   "cell_type": "markdown",
   "metadata": {},
   "source": [
    "#### <center> Table 2: Descriptive Stats </center>"
   ]
  },
  {
   "cell_type": "markdown",
   "metadata": {},
   "source": [
    "### <u> Regression Analysis</u>"
   ]
  },
  {
   "cell_type": "markdown",
   "metadata": {},
   "source": [
    "(Here is where I used the application Eviews to produce these tables using a program that my professor wrote himself. The program creates 43 regression equations from a linear in variables equation. The 43 equations have the fractional polynomials level, square, reciprocal and natural log forms of each of the variables in the specified linear equation.  \n",
    "\n",
    "The other tables besides 3, 4 and 5 were created using just Eviews.)"
   ]
  },
  {
   "cell_type": "markdown",
   "metadata": {},
   "source": [
    "<img src=\"tb3.png\" />"
   ]
  },
  {
   "cell_type": "markdown",
   "metadata": {},
   "source": [
    "#### <center> Table 3: Linear Equations </center>"
   ]
  },
  {
   "cell_type": "markdown",
   "metadata": {},
   "source": [
    "<img src=\"tb4.png\" />"
   ]
  },
  {
   "cell_type": "markdown",
   "metadata": {},
   "source": [
    "#### <center> Table 4: Log Equations </center>"
   ]
  },
  {
   "cell_type": "markdown",
   "metadata": {},
   "source": [
    "The superset for the log equations, A06, failed the Ramsey test at every term. The superset for the linear equations, A01, passed the Ramsey test at every term and all but one linear equation passed the Ramsey at each term. After looking at the adjusted R squared for even the highest Ramsey test scores amongst the log equations, it is clear that they are negligible compared to the linear equations so I will exclude the log equations.  \n",
    "\n",
    "For my final regression, I narrowed it down to six linear equations including those with the highest R squared, highest adjusted R squared and lowest values for Akaike, Schwarz, and Hannan-Quinn. The highest values for each are highlighted green in table 5. \n"
   ]
  },
  {
   "cell_type": "markdown",
   "metadata": {},
   "source": [
    "<img src=\"tb5.png\" width=\"450px\" />"
   ]
  },
  {
   "cell_type": "markdown",
   "metadata": {},
   "source": [
    "#### <center> Table 5: Top Six Regressions </center>"
   ]
  },
  {
   "cell_type": "markdown",
   "metadata": {},
   "source": [
    "All six equations have remarkably high adjusted R squared values but many statistically insignificant coefficients. A01SFB2 has the highest adjusted R squared, A01SGF1has the lowest Schwarz and HQ values, and A01SEF2 has the lowest Akaike. All of the chosen equations pass the heteroskedasticity test and the Ramsey as stated before.  \n",
    "\n",
    "From the top six regressions, I decide to select A01SFB2 for my final equation because it has the highest adjusted R squared and only marginally higher values for Akaike, Schwarz, and Hannan-Quinn. A01SFB2 has the most statistically significant coefficients at 1% and does not exclude as many variables as A01SGF1. In testing to see if the excluded variables are jointly significant, the Wald Test fails to reject the null hypothesis as seen in Table 6 below. The excluded variables are jointly insignificant and can be excluded from A01SFB2. "
   ]
  },
  {
   "cell_type": "markdown",
   "metadata": {},
   "source": [
    "<img src=\"tb6.png\" width=\"500px\" />"
   ]
  },
  {
   "cell_type": "markdown",
   "metadata": {},
   "source": [
    "#### <center> Table 6: Wald Test on A01 </center>"
   ]
  },
  {
   "cell_type": "markdown",
   "metadata": {},
   "source": [
    "I ran the slopes program next since many variables in the equation are non-linear. Many of the coefficients on my non-linear variables are so large that the only way to get a good sense of their meaning is by looking at the slopes at the mean and the graphs for each. In Table 7 below I investigate the slope and elasticity at the mean for each variable in A01SFB2. "
   ]
  },
  {
   "cell_type": "markdown",
   "metadata": {},
   "source": [
    "<img src=\"tb7.png\" width=\"800px\" />"
   ]
  },
  {
   "cell_type": "markdown",
   "metadata": {},
   "source": [
    "#### <center> Table 7: Slopes and Elasticities </center>"
   ]
  },
  {
   "cell_type": "markdown",
   "metadata": {},
   "source": [
    "The most surprising result from the table is that AST, FTA, OPP_FTA and OPP_TOV are all statistically insignificant according to their slope-at-the-mean p-values. The slopes at the mean for 3P%, DREB%, OPP_3P%, PTS and TOV are all significant at 1% while the slope at the mean for 3PA is significant at 10%. The elasticities for many of the variables are very large with OPP_3P% reaching -4.09.  \n",
    "\n",
    "The sign of the coefficient on each variable is as expected with one outlier: AST. While expected to be positive, the slope at the mean is -1.479. The maximum slope is 10.66 and the minimum is -11.21, so at least the slope is not consistently negative. Looking at the data, I have a hard time understanding why the slope at the mean on assists would be negative. Teams like Golden State and San Antonio are consistently near the top of the pack when it comes to assists and have in turn had massive success in the win column. Bad teams over the past four years like Phoenix and Los Angeles have lower assist numbers paired with less wins. There are exceptions and possibly far more than I thought. Nonetheless, it is quite surprising to see the negative coefficient on AST.   \n",
    "\n",
    "The graphs for the effect of 3P% and 3PA on WINS tell quite the story. I talked about San Antonio coach Greg Popovich in my introduction and the conundrum of the Spurs leading the league in 3-point percentage this season (not in my dataset) while taking the least threes. The slopes of 3P% and 3PA suggest that Pop’s intuition is accurate. "
   ]
  },
  {
   "cell_type": "markdown",
   "metadata": {},
   "source": [
    "<img src=\"tb8.png\" width=\"800px\" />"
   ]
  },
  {
   "cell_type": "markdown",
   "metadata": {},
   "source": [
    "#### <center> Graph 1: Effect of 3P% on WINS &nbsp;&nbsp;&nbsp;&nbsp;&nbsp;&nbsp;&nbsp;&nbsp;&nbsp;&nbsp;&nbsp;&nbsp;&nbsp;&nbsp;&nbsp;&nbsp;&nbsp;&nbsp;&nbsp;&nbsp;&nbsp;&nbsp;&nbsp;&nbsp;&nbsp;&nbsp;&nbsp;&nbsp;&nbsp;&nbsp;&nbsp;&nbsp;&nbsp;&nbsp;&nbsp;&nbsp;&nbsp;&nbsp;&nbsp;&nbsp;&nbsp;&nbsp;&nbsp;&nbsp; Graph 2: Effect of 3PA on WINS </center>"
   ]
  },
  {
   "cell_type": "markdown",
   "metadata": {},
   "source": [
    "As expected, the slope on 3P% is positive and in an almost perfectly linear fashion. The higher rate at which teams make three-pointers, the more wins they obtain. This begs the question of why teams wouldn’t want to maximize their three-point attempts and focus on recruiting players who can hit those shots. The Houston Rockets over the past two seasons model this strategy, providing the two outliers in Graph 2 of 42.3 3PA in ’17-18 and 40.3 3PA in ’16-17. Those two seasons brought the Rockets 65 and 55 wins, respectively. Reconciling Houston’s success with the downward slope of Graph 2 is a challenge and the reason why my expected sign for 3PA was “?”.   \n",
    "\n",
    "If the slope on 3PA is accurate, Greg Popovich’s skepticism of three-pointers would be validated. The Spurs coach has called the three a circus shot and asserted the shot has taken the beauty out of basketball, but his team still shot the best from three-point range this season. The inverse relationship that the Spurs have with threes and 3P% provides what could be a lesson to NBA coaches: focus on quality of shot rather than quantity. Settling for threes at the cost of quality shots appears to have a negative impact on a team’s win percentage. There are clearly an abundance of other key factors and the significance of 3PA was not as large as some other factors in my regression. Still, the negative correlation between the two is fascinating. \n"
   ]
  },
  {
   "cell_type": "markdown",
   "metadata": {},
   "source": [
    "### <u> Conclusion</u>"
   ]
  },
  {
   "cell_type": "markdown",
   "metadata": {},
   "source": [
    "In my final regression, the most significant variables in predicting WINS were PTS, OPP_3P% and DREB%. Compared to Onwuegbuzie (2008) which found opponent three-point percentage and opponent defensive rebounds to be two of the top five most significant factors, this is not surprising. Onwuegbuzie (2008) also found field goal percentage to be the most significant factor, a finding that coincides with Oliver (2004) weighting effective field goal percentage most heavily of the four factors. If I were to do this study again, I could incorporate that metric. The reason I did not is because I thought it was obvious that teams with higher field goal percentages would be better.  \n",
    "\n",
    "The graph of 3PA is one of my biggest takeaways from this study. A negative slope on three-pointers attempted explains the conundrum of how the Spurs could take the least threes and lead the league in percentage. If this is accurate, it does suggest that the three-point revolution has gotten out of hand insofar that teams are settling for too many threes.   \n",
    "\n",
    "Future research could choose the independent variables more carefully. There were a few statistically insignificant variables like OPP_TOV and OPP_FTA that could be taken out. It would also be interesting to see how an analysis of past seasons would look like. "
   ]
  },
  {
   "cell_type": "markdown",
   "metadata": {},
   "source": [
    "### References:"
   ]
  },
  {
   "cell_type": "markdown",
   "metadata": {},
   "source": [
    "Dean Oliver, Basketball on Paper: Rules and Tools for Performance Analysis (Potomac, 2004).  \n",
    "Onwuegbuzie, Anthony. “Factors Associated With Success Among NBA Teams”. The Sport Journal 13 Feb 2008. Web."
   ]
  },
  {
   "cell_type": "markdown",
   "metadata": {},
   "source": [
    "### Data Sources:"
   ]
  },
  {
   "cell_type": "markdown",
   "metadata": {},
   "source": [
    "All data collected from basketball-reference.com"
   ]
  }
 ],
 "metadata": {
  "kernelspec": {
   "display_name": "Python 3",
   "language": "python",
   "name": "python3"
  },
  "language_info": {
   "codemirror_mode": {
    "name": "ipython",
    "version": 3
   },
   "file_extension": ".py",
   "mimetype": "text/x-python",
   "name": "python",
   "nbconvert_exporter": "python",
   "pygments_lexer": "ipython3",
   "version": "3.7.3"
  }
 },
 "nbformat": 4,
 "nbformat_minor": 2
}
